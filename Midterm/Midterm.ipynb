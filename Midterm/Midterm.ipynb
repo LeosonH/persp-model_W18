{
 "cells": [
  {
   "cell_type": "markdown",
   "metadata": {},
   "source": [
    "# Midterm (MACS 30100), February 5, 2018\n",
    "### Leoson Hoay\n",
    "You will have an hour and thirty minutes to take this exam.\n",
    "1. Put your name in the space provided above (without the brackets).\n",
    "2. Download this notebook and accompanying data `LenderDataLong.dta`.\n",
    "3. The class will disconnect their wi-fi and begin taking the exam.\n",
    "4. The exam is open computer, closed internet, open note.\n",
    "5. Once you are done, you will signal to a TA or instructor to come over and monitor while you reconnect to the internet and upload your edited notebook to Canvas.\n",
    "\n",
    "Remember that you must clearly indicate your answers to all questions below. We will give partial credit for partially correct answers. The midterm is worth 20 points (2 problem sets)."
   ]
  },
  {
   "cell_type": "markdown",
   "metadata": {},
   "source": [
    "## The data\n",
    "This two exercises of this midterm and all their respective subparts will use the `LenderData.csv` dataset, which contains observations of characteristics on short-term, high interest rate, lender information. You are not to use this data outside of this class. It is a jittered and randomized version of a dataset used in a published research paper.\n",
    "\n",
    "Each observation contains characteristics of a particular lender location Read it into Python using the `pandas.read_csv()` command. The variables are the following:\n",
    "\n",
    "* `avgrate`: average annualized interest rate of all loans in percentage points (235 = two hundred and thirty five percent)\n",
    "* `numstores`: number of other stores owned by the same owner (measure of size)\n",
    "* `defrate`: default rate on loans from that store during 2010\n",
    "* `pdrad3`: number of payday lenders within a three-mile radius of the store (measure of competition)\n",
    "* `pnrad3`: number of pawn lenders within a three-mile radius of the store (measure of competition)\n",
    "* `totrad3`: total number of other lenders within a three-mile radius of the store (measure of competition)\n",
    "* `unrt_zip`: unemployment rate in the zip code of the store\n",
    "* `medtotinc2010`: median total household income in the zip code of the store\n",
    "* `edbachplus_zip`: average education level in years of schooling of heads of household in the zip code of the store\n",
    "* `pop_zip`: population in zip code of the store\n",
    "* `mdage_zip`: median age (in years) in zip code of the store\n",
    "* `pctblk2_zip`: percent of the population that is black in the zip code of the store in percentage points (2.2=two point two percent)"
   ]
  },
  {
   "cell_type": "markdown",
   "metadata": {},
   "source": [
    "**Importing necessary packages:**"
   ]
  },
  {
   "cell_type": "code",

   "outputs": [],
   "source": [
    "import numpy as np\n",
    "import scipy.stats as sts\n",
    "import scipy.optimize as opt\n",
    "import matplotlib.pyplot as plt\n",
    "from matplotlib.ticker import MultipleLocator\n",
    "import pandas as pd\n",
    "import sklearn as sk\n",
    "from sklearn import neighbors\n",
    "from sklearn.cross_validation import train_test_split\n",
    "from sklearn.linear_model import LogisticRegression\n",
    "from sklearn.metrics import confusion_matrix, classification_report\n",
    "import math\n",
    "import statsmodels.api as sm"
   ]
  },
  {
   "cell_type": "code",
   "execution_count": 2,
   "metadata": {},
   "outputs": [],
   "source": [
    "# Read in the data\n",
    "lender_df = pd.read_csv('LenderData.csv')"
   ]
  },
  {
   "cell_type": "code",
   "execution_count": 3,
   "metadata": {},
   "outputs": [
    {
     "data": {
      "text/html": [
       "<div>\n",
       "<style scoped>\n",
       "    .dataframe tbody tr th:only-of-type {\n",
       "        vertical-align: middle;\n",
       "    }\n",
       "\n",
       "    .dataframe tbody tr th {\n",
       "        vertical-align: top;\n",
       "    }\n",
       "\n",
       "    .dataframe thead th {\n",
       "        text-align: right;\n",
       "    }\n",
       "</style>\n",
       "<table border=\"1\" class=\"dataframe\">\n",
       "  <thead>\n",
       "    <tr style=\"text-align: right;\">\n",
       "      <th></th>\n",
       "      <th>avgrate</th>\n",
       "      <th>numstores</th>\n",
       "      <th>defrate</th>\n",
       "      <th>pdrad3</th>\n",
       "      <th>pnrad3</th>\n",
       "      <th>totrad3</th>\n",
       "      <th>unrt_zip</th>\n",
       "      <th>medtotinc2010</th>\n",
       "      <th>edbachplus_zip</th>\n",
       "      <th>pop_zip</th>\n",
       "      <th>mdage_zip</th>\n",
       "      <th>pctblk2_zip</th>\n",
       "    </tr>\n",
       "  </thead>\n",
       "  <tbody>\n",
       "    <tr>\n",
       "      <th>0</th>\n",
       "      <td>521.429993</td>\n",
       "      <td>23</td>\n",
       "      <td>24.390244</td>\n",
       "      <td>7</td>\n",
       "      <td>3</td>\n",
       "      <td>12</td>\n",
       "      <td>5.7</td>\n",
       "      <td>38485.44531</td>\n",
       "      <td>40.2</td>\n",
       "      <td>44821</td>\n",
       "      <td>33.6</td>\n",
       "      <td>1.0</td>\n",
       "    </tr>\n",
       "    <tr>\n",
       "      <th>1</th>\n",
       "      <td>521.429993</td>\n",
       "      <td>23</td>\n",
       "      <td>38.596489</td>\n",
       "      <td>15</td>\n",
       "      <td>2</td>\n",
       "      <td>18</td>\n",
       "      <td>7.1</td>\n",
       "      <td>31289.11133</td>\n",
       "      <td>14.1</td>\n",
       "      <td>68295</td>\n",
       "      <td>29.2</td>\n",
       "      <td>2.2</td>\n",
       "    </tr>\n",
       "    <tr>\n",
       "      <th>2</th>\n",
       "      <td>521.429993</td>\n",
       "      <td>23</td>\n",
       "      <td>38.954868</td>\n",
       "      <td>6</td>\n",
       "      <td>3</td>\n",
       "      <td>11</td>\n",
       "      <td>7.1</td>\n",
       "      <td>31289.11133</td>\n",
       "      <td>14.1</td>\n",
       "      <td>68295</td>\n",
       "      <td>29.2</td>\n",
       "      <td>2.2</td>\n",
       "    </tr>\n",
       "    <tr>\n",
       "      <th>3</th>\n",
       "      <td>521.429993</td>\n",
       "      <td>23</td>\n",
       "      <td>27.352297</td>\n",
       "      <td>28</td>\n",
       "      <td>29</td>\n",
       "      <td>58</td>\n",
       "      <td>9.2</td>\n",
       "      <td>31421.22266</td>\n",
       "      <td>11.3</td>\n",
       "      <td>26524</td>\n",
       "      <td>28.5</td>\n",
       "      <td>1.4</td>\n",
       "    </tr>\n",
       "    <tr>\n",
       "      <th>4</th>\n",
       "      <td>521.429993</td>\n",
       "      <td>23</td>\n",
       "      <td>30.055660</td>\n",
       "      <td>22</td>\n",
       "      <td>17</td>\n",
       "      <td>42</td>\n",
       "      <td>7.5</td>\n",
       "      <td>27502.00000</td>\n",
       "      <td>22.3</td>\n",
       "      <td>28936</td>\n",
       "      <td>30.8</td>\n",
       "      <td>2.7</td>\n",
       "    </tr>\n",
       "  </tbody>\n",
       "</table>\n",
       "</div>"
      ],
      "text/plain": [
       "      avgrate  numstores    defrate  pdrad3  pnrad3  totrad3  unrt_zip  \\\n",
       "0  521.429993         23  24.390244       7       3       12       5.7   \n",
       "1  521.429993         23  38.596489      15       2       18       7.1   \n",
       "2  521.429993         23  38.954868       6       3       11       7.1   \n",
       "3  521.429993         23  27.352297      28      29       58       9.2   \n",
       "4  521.429993         23  30.055660      22      17       42       7.5   \n",
       "\n",
       "   medtotinc2010  edbachplus_zip  pop_zip  mdage_zip  pctblk2_zip  \n",
       "0    38485.44531            40.2    44821       33.6          1.0  \n",
       "1    31289.11133            14.1    68295       29.2          2.2  \n",
       "2    31289.11133            14.1    68295       29.2          2.2  \n",
       "3    31421.22266            11.3    26524       28.5          1.4  \n",
       "4    27502.00000            22.3    28936       30.8          2.7  "
      ]
     },
     "execution_count": 3,
     "metadata": {},
     "output_type": "execute_result"
    }
   ],
   "source": [
    "lender_df.head()"
   ]
  },
  {
   "cell_type": "markdown",
   "metadata": {},
   "source": [
    "## 1. Using the distributions of interest rates and median income (10 points)"
   ]
  },
  {
   "cell_type": "markdown",
   "metadata": {},
   "source": [
    "1A) [2 points] Create a plot of the histogram of high interest rate lenders interest rates `avgrate`. Use 30 bins. Make sure to label your axes and give the figure a title. If you had to group lenders into $N$ categories, how many categories would you choose based on the interest rate data? That is, how many groupings to you see in these data?"
   ]
  },
  {
   "cell_type": "code",

  },
  {
   "cell_type": "markdown",
   "metadata": {},
   "source": [
    "1B) [1 point] Create a plot of the histogram of median total household income `medtotinc2010`. Use 30 bins. Make sure to label your axes and give the figure a title."
   ]
  },
  {
   "cell_type": "code",

  },
  {
   "cell_type": "markdown",
   "metadata": {},
   "source": [
    "1C) [5 points] Use maximum likelihood estimation to fit a lognormal distribution $LN(\\mu, \\sigma)$ to the median income data `medtotinc2010`. Report your estimated $\\hat{\\mu}_{mle}$ and $\\hat{\\sigma}_{mle}$ as well as the likelihood function value at the maximum (not the negative log likelihood). Report your estimate of the variance-covariance matrix of your maximum likelihood estimates of $\\hat{\\mu}_{mle}$ and $\\hat{\\sigma}_{mle}$. Report the standard error on the estimate for $\\hat{\\mu}_{mle}$."
   ]
  },
  {
   "cell_type": "code",
   "execution_count": 23,
   "metadata": {},
   "outputs": [
    {
     "name": "stdout",
     "output_type": "stream",
     "text": [
      "-1528.357247352923\n"
     ]
    }
   ],
   "source": [
    "# Heavily based on Problem Set 2 \n",
    "\n",
    "# pdf values function\n",
    "def lognormal_pdf(xvals, mu, sigma):\n",
    "    pdf_vals = (1/(xvals * sigma * np.sqrt(2 * np.pi)) * np.exp( - (np.log(xvals) - mu)**2 \n",
    "                                                                / (2 * sigma**2)))\n",
    "    return pdf_vals\n",
    "\n",
    "# plot initial manually estimated values to get a feel for better initial points\n",
    "pdf_medincomes = np.linspace(0.001, 60000, 500)\n",
    "mu_1, sigma_1 = 10.5, 0.3\n",
    "plt.plot(pdf_medincomes, lognormal_pdf(pdf_medincomes, mu_1, sigma_1), linewidth = 2, color = 'orange',label='1: $\\mu$=10.5,$\\sigma$=0.3')\n",
    "plt.legend(loc='upper left')\n",
    "\n",
    "# log likelihood value function\n",
    "def log_lik_lognormal(xvals, mu, sigma):\n",
    "    pdf_vals = lognormal_pdf(xvals, mu, sigma)\n",
    "    log_likelihood = np.log(pdf_vals).sum()\n",
    "    \n",
    "    return log_likelihood\n",
    "\n",
    "# calculate non-maximised log likelihood\n",
    "print(log_lik_lognormal(lender_df['medtotinc2010'], mu_1, sigma_1))"
   ]
  },
  {
   "cell_type": "code",
   "execution_count": 24,
   "metadata": {},
   "outputs": [
    {
     "name": "stdout",
     "output_type": "stream",
     "text": [
      "Reporting Varirance-Covariance Matrix: \n",
      " [[ 2.99410499e-04 -2.18736459e-06]\n",
      " [-2.18736459e-06  1.35380544e-04]]\n",
      "\n",
      "Reporting Standard error for mu MLE estimate =  0.017303482284119893\n",
      "\n",
      "Reporting mu MLE= 10.3773811459636 ,  Reporting sigma MLE= 0.19949937401606196\n",
      "\n",
      "Reporting Log-likelihood:  -1497.1030088878404\n"
     ]
    }
   ],
   "source": [
    "# Begin MLE estimation\n",
    "\n",
    "# criterion function that returns negative log likelihood\n",
    "def criterion(params, args):\n",
    "    mu, sigma = params\n",
    "    log_likelihood_val = log_lik_lognormal(args, mu, sigma)\n",
    "    negative_log_likelihood = -log_likelihood_val\n",
    "    \n",
    "    return negative_log_likelihood\n",
    "\n",
    "mu_init = 10.5 \n",
    "sig_init = 0.3\n",
    "params_init = np.array([mu_init, sig_init])\n",
    "mle_args = lender_df['medtotinc2010']\n",
    "results = opt.minimize(criterion, params_init, args=mle_args,bounds=((None,None), (0.05,None)))\n",
    "mu_MLE, sig_MLE = results.x\n",
    "plt.plot(pdf_medincomes, lognormal_pdf(pdf_medincomes, mu_MLE, sig_MLE), linewidth = 2, color = 'purple',label='2: $\\mu$=10.38,$\\sigma$=0.199')\n",
    "plt.legend(loc='upper left')\n",
    "\n",
    "# Getting VCV\n",
    "OffDiagNeg = np.array([[1, -1], [-1, 1]])\n",
    "vcv_mle = results.hess_inv.todense() * OffDiagNeg\n",
    "stderr_mu_mle = np.sqrt(vcv_mle[0,0])\n",
    "stderr_sig_mle = np.sqrt(vcv_mle[1,1])\n",
    "\n",
    "print(\"Reporting Varirance-Covariance Matrix: \\n\", vcv_mle)\n",
    "print(\"\")\n",
    "print('Reporting Standard error for mu MLE estimate = ', stderr_mu_mle)\n",
    "print(\"\")\n",
    "print('Reporting mu MLE=', mu_MLE, \", \", 'Reporting sigma MLE=', sig_MLE)\n",
    "print(\"\")\n",
    "print('Reporting Log-likelihood: ', log_lik_lognormal(lender_df['medtotinc2010'], mu_MLE, sig_MLE))"
   ]
  },
  {
   "cell_type": "markdown",
   "metadata": {},
   "source": [
    "1D) [2 points] Plot the predicted distribution from your maximum likelihood estimates $\\hat{\\mu}_{mle}$ and $\\hat{\\sigma}_{mle}$ against the histogram of the data."
   ]
  },
  {
   "cell_type": "code",

  },
  {
   "cell_type": "markdown",
   "metadata": {},
   "source": [
    "## 2. Determinants of lender interest rates (10 points)"
   ]
  },
  {
   "cell_type": "markdown",
   "metadata": {},
   "source": [
    "2A) [3 points] Assume a simple regression model of four factors that influence the interest rates that a lender charges, namely, number of stores, default rate in the area, unemployment rate in the area, and median household income in the area.\n",
    "\n",
    "$$ avgrate_i = \\beta_0 + \\beta_1 numstores_i + \\beta_2 defrate_i + \\beta_3 unrt_zip_i + \\beta_4 medtotinc2010_i + u_i $$\n",
    "\n",
    "Estimate this model by OLS using the `statsmodels.api` package. Don't forget to include a constant. Print your results summary. Which variables are significant at the 5-percent level? How would you interpret in words the estimated coefficient on `numstores`?"
   ]
  },
  {
   "cell_type": "code",

   "outputs": [],
   "source": [
    "reg1 = sm.OLS(lender_df2['avgrate'], lender_df2[['const', 'numstores', 'defrate', 'unrt_zip', 'medtotinc2010']], missing='drop')"
   ]
  },
  {
   "cell_type": "code",
   "execution_count": 11,
   "metadata": {},
   "outputs": [],
   "source": [
    "results1 = reg1.fit()"
   ]
  },
  {
   "cell_type": "code",
   "execution_count": 12,
   "metadata": {},
   "outputs": [
    {
     "name": "stdout",
     "output_type": "stream",
     "text": [
      "                            OLS Regression Results                            \n",
      "==============================================================================\n",
      "Dep. Variable:                avgrate   R-squared:                       0.110\n",
      "Model:                            OLS   Adj. R-squared:                  0.085\n",
      "Method:                 Least Squares   F-statistic:                     4.375\n",
      "Date:                Mon, 05 Feb 2018   Prob (F-statistic):            0.00229\n",
      "Time:                        13:00:31   Log-Likelihood:                -812.28\n",
      "No. Observations:                 147   AIC:                             1635.\n",
      "Df Residuals:                     142   BIC:                             1650.\n",
      "Df Model:                           4                                         \n",
      "Covariance Type:            nonrobust                                         \n",
      "=================================================================================\n",
      "                    coef    std err          t      P>|t|      [0.025      0.975]\n",
      "---------------------------------------------------------------------------------\n",
      "const           453.4117     51.263      8.845      0.000     352.075     554.748\n",
      "numstores        -2.6278      0.672     -3.911      0.000      -3.956      -1.300\n",
      "defrate           0.9717      0.574      1.694      0.093      -0.162       2.106\n",
      "unrt_zip          2.9650      3.187      0.930      0.354      -3.335       9.265\n",
      "medtotinc2010     0.0015      0.001      1.526      0.129      -0.000       0.003\n",
      "==============================================================================\n",
      "Omnibus:                        5.028   Durbin-Watson:                   0.366\n",
      "Prob(Omnibus):                  0.081   Jarque-Bera (JB):                3.262\n",
      "Skew:                          -0.189   Prob(JB):                        0.196\n",
      "Kurtosis:                       2.375   Cond. No.                     3.37e+05\n",
      "==============================================================================\n",
      "\n",
      "Warnings:\n",
      "[1] Standard Errors assume that the covariance matrix of the errors is correctly specified.\n",
      "[2] The condition number is large, 3.37e+05. This might indicate that there are\n",
      "strong multicollinearity or other numerical problems.\n"
     ]
    }
   ],
   "source": [
    "print(results1.summary())"
   ]
  },
  {
   "cell_type": "markdown",
   "metadata": {},
   "source": [
    "From the summary table, **numstores** is the only variable significant at the 5% level."
   ]
  },
  {
   "cell_type": "markdown",
   "metadata": {},
   "source": [
    "**A single unit increase in numstores (1 store) corresponds to an approximate -2.6278 unit change in avgrate (percent), all else kept constant.**"
   ]
  },
  {
   "cell_type": "markdown",
   "metadata": {},
   "source": [
    "2B) [4 points] Now assume a richer model for the determinants of lender interest rates, which includes the following measures of competition and other demographic variables.\n",
    "\n",
    "$$ avgrate_i = \\beta_0 + \\beta_1 numstores_i + \\beta_2 defrate_i + \\beta_3 unrt_zip_i + \\beta_4 medtotinc2010_i + ... $$\n",
    "$$ \\qquad\\qquad\\qquad\\qquad \\beta_5 totrad3_i + \\beta_6 edbachplus\\_zip_i + \\beta_7 pop\\_zip_i + \\beta_8 mdage\\_zip_i + \\beta_9 pctblk2\\_zip_i + u_i $$\n",
    "\n",
    "Estimate this regression by OLS using the `statsmodels.api` package. In controlling for these new varaibles, do any of the originally estimated coefficients from the model in part (2A) become statistically not significant (at the 5 percent level)? Of these new coefficients ($\\beta_5$ through $\\beta_9$), which one(s) are the most statistically significant?"
   ]
  },
  {
   "cell_type": "code",

   "outputs": [],
   "source": [
    "reg2 = sm.OLS(lender_df2['avgrate'], lender_df2[['const', 'numstores', 'defrate', 'unrt_zip', 'medtotinc2010', \n",
    "                                                 'totrad3', 'edbachplus_zip', 'pop_zip', 'mdage_zip', 'pctblk2_zip']], missing='drop')"
   ]
  },
  {
   "cell_type": "code",
   "execution_count": 15,
   "metadata": {},
   "outputs": [],
   "source": [
    "results2 = reg2.fit()"
   ]
  },
  {
   "cell_type": "code",
   "execution_count": 16,
   "metadata": {},
   "outputs": [
    {
     "name": "stdout",
     "output_type": "stream",
     "text": [
      "                            OLS Regression Results                            \n",
      "==============================================================================\n",
      "Dep. Variable:                avgrate   R-squared:                       0.158\n",
      "Model:                            OLS   Adj. R-squared:                  0.102\n",
      "Method:                 Least Squares   F-statistic:                     2.846\n",
      "Date:                Mon, 05 Feb 2018   Prob (F-statistic):            0.00419\n",
      "Time:                        13:00:31   Log-Likelihood:                -808.23\n",
      "No. Observations:                 147   AIC:                             1636.\n",
      "Df Residuals:                     137   BIC:                             1666.\n",
      "Df Model:                           9                                         \n",
      "Covariance Type:            nonrobust                                         \n",
      "==================================================================================\n",
      "                     coef    std err          t      P>|t|      [0.025      0.975]\n",
      "----------------------------------------------------------------------------------\n",
      "const            613.9741     85.491      7.182      0.000     444.921     783.027\n",
      "numstores         -2.4303      0.680     -3.574      0.000      -3.775      -1.086\n",
      "defrate            0.8094      0.585      1.384      0.168      -0.347       1.966\n",
      "unrt_zip          -0.3055      3.521     -0.087      0.931      -7.268       6.657\n",
      "medtotinc2010      0.0010      0.001      0.843      0.401      -0.001       0.003\n",
      "totrad3           -0.6991      0.527     -1.326      0.187      -1.741       0.343\n",
      "edbachplus_zip    -1.3219      0.660     -2.004      0.047      -2.626      -0.018\n",
      "pop_zip           -0.0006      0.000     -1.539      0.126      -0.001       0.000\n",
      "mdage_zip         -1.8352      2.234     -0.821      0.413      -6.253       2.583\n",
      "pctblk2_zip        2.3541      5.981      0.394      0.694      -9.473      14.181\n",
      "==============================================================================\n",
      "Omnibus:                        2.316   Durbin-Watson:                   0.443\n",
      "Prob(Omnibus):                  0.314   Jarque-Bera (JB):                2.014\n",
      "Skew:                          -0.174   Prob(JB):                        0.365\n",
      "Kurtosis:                       2.543   Cond. No.                     8.56e+05\n",
      "==============================================================================\n",
      "\n",
      "Warnings:\n",
      "[1] Standard Errors assume that the covariance matrix of the errors is correctly specified.\n",
      "[2] The condition number is large, 8.56e+05. This might indicate that there are\n",
      "strong multicollinearity or other numerical problems.\n"
     ]
    }
   ],
   "source": [
    "print(results2.summary())"
   ]
  },
  {
   "cell_type": "markdown",
   "metadata": {},
   "source": [
    "In controlling for these new variables, the previously statistically significant coefficient of numstores ($\\beta_1$) still **remains significant**, while the other variables are still non-significant at the 5% level. Out of the new variables, edbachplus_zip's coefficient ($\\beta_6$) is the **most statistically significant (p-value < 0.05)**."
   ]
  },
  {
   "cell_type": "markdown",
   "metadata": {},
   "source": [
    "2C) [3 points] Create a new binary variable called `avgrate_high` that equals 1 if `avgrate` > 425, and equals 0 otherwise. Estimate a logistic regression using the `statsmodels.api` package. Let $X\\beta$ be the following linear coefficients and variables.\n",
    "\n",
    "$$ Pr(avgrate\\_high=1|X\\beta) = \\frac{e^{X\\beta}}{1 + e^{X\\beta}} $$\n",
    "\n",
    "where\n",
    "\n",
    "$$ X\\beta = \\beta_0 + \\beta_1 numstores_i + \\beta_2 defrate_i + \\beta_3 unrt_zip_i + \\beta_4 medtotinc2010_i + ... $$\n",
    "$$ \\qquad\\qquad\\qquad\\qquad \\beta_5 edbachplus\\_zip_i + \\beta_6 pop\\_zip_i + \\beta_7 mdage\\_zip_i + \\beta_8 pctblk2\\_zip_i + u_i $$\n",
    "\n",
    "Report the variables whose coefficients are estimated to be significant at the 5-percent level."
   ]
  },
  {
   "cell_type": "code",
  }
 ],
 "metadata": {
  "kernelspec": {
   "display_name": "Python 3",
   "language": "python",
   "name": "python3"
  },
  "language_info": {
   "codemirror_mode": {
    "name": "ipython",
    "version": 3
   },
   "file_extension": ".py",
   "mimetype": "text/x-python",
   "name": "python",
   "nbconvert_exporter": "python",
   "pygments_lexer": "ipython3",
   "version": "3.6.4"
  }
 },
 "nbformat": 4,
 "nbformat_minor": 2
}
